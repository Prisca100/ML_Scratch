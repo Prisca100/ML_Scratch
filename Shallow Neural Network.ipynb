{
 "cells": [
  {
   "cell_type": "markdown",
   "id": "ba4dea3f",
   "metadata": {},
   "source": [
    "# Shallow Neural Network"
   ]
  },
  {
   "cell_type": "code",
   "execution_count": 1,
   "id": "db6c5b9b",
   "metadata": {},
   "outputs": [],
   "source": [
    "import numpy as np\n",
    "import matplotlib.pyplot as plt\n",
    "from utils import *\n",
    "from test_cases import *"
   ]
  },
  {
   "cell_type": "code",
   "execution_count": 12,
   "id": "97406c0e",
   "metadata": {},
   "outputs": [],
   "source": [
    "def layer_dims(X, Y):\n",
    "    n_x = X.shape[0]\n",
    "    n_h = 4\n",
    "    n_y = Y.shape[0]\n",
    "    \n",
    "    return(n_x, n_h, n_y)\n"
   ]
  },
  {
   "cell_type": "code",
   "execution_count": 13,
   "id": "5bccd1b1",
   "metadata": {},
   "outputs": [],
   "source": [
    "# Initialising W and b \n",
    "def initialise(n_x, n_h, n_y):\n",
    "    np.random.seed(0)\n",
    "\n",
    "    W1 = np.random.randn(n_h, n_x)*0.01\n",
    "    b1 = np.zeros(shape=(n_h, 1))\n",
    "    W2 = np.random.rand(n_y, n_h)*0.01\n",
    "    b2 = np.zeros(shape=(n_y, 1))\n",
    "\n",
    "\n",
    "    assert (W1.shape == (n_h, n_x))\n",
    "    assert (b1.shape == (n_h, 1))\n",
    "    assert (W2.shape == (n_y , n_h))\n",
    "    assert (b2.shape == (n_y, 1))\n",
    "\n",
    "    params = {\"W1\": W1,\n",
    "             \"b1\": b1,\n",
    "             \"W2\": W2,\n",
    "             \"b2\": b2}\n",
    "\n",
    "    return params"
   ]
  },
  {
   "cell_type": "code",
   "execution_count": 40,
   "id": "98da91d5",
   "metadata": {},
   "outputs": [],
   "source": [
    "# Foward prop\n",
    "\n",
    "def foward_prop(X, params):\n",
    "#     n_x, n_h, n_w = layer_dims(X, Y)\n",
    "#     params = initialise(n_x, n_h, n_w)\n",
    "    W1 = params['W1']\n",
    "    b1 = params['b1']\n",
    "    W2 = params['W2']\n",
    "    b2 = params['b2']\n",
    "    \n",
    "    \n",
    "    Z1 = np.dot(W1, X) + b1\n",
    "    A1, _ = sigmoid(Z1)\n",
    "    Z2 = np.dot(W2, A1) + b2\n",
    "    A2, _ = sigmoid(Z2)\n",
    "    \n",
    "    \n",
    "    assert(A2.shape == (1, X.shape[1]))\n",
    "    \n",
    "    cache = {\"Z1\": Z1,\n",
    "            \"A1\": A1,\n",
    "            \"Z2\": Z2,\n",
    "            \"A2\": A2}\n",
    "    \n",
    "    return A2, cache"
   ]
  },
  {
   "cell_type": "code",
   "execution_count": 46,
   "id": "0f9d95ff",
   "metadata": {},
   "outputs": [],
   "source": [
    "# foward propagation test\n",
    "X = np.random.rand(3,2)\n",
    "Y = np.random.rand(1,2)\n",
    "# A2, cache = foward_prop(X, Y)\n",
    "# print(\"A2 is: \" , A2)\n",
    "# print(\"Cached_items: \", cache)"
   ]
  },
  {
   "cell_type": "code",
   "execution_count": 72,
   "id": "b2199664",
   "metadata": {},
   "outputs": [],
   "source": [
    "# Compute cost\n",
    "def cost_compute(A2, Y, params):\n",
    "    \n",
    "    m = Y.shape[1] #num of examples\n",
    "    \n",
    "    W1 = params['W1']\n",
    "    W2 = params['W2']\n",
    "    \n",
    "    logprobs = np.multiply(np.log(A2), Y) + np.multiply((1 - Y), np.log(1 - A2))\n",
    "    cost = - np.sum(logprobs) / m\n",
    "    \n",
    "    cost = np.squeeze(cost)     # makes sure cost is the dimension we expect. \n",
    "                                # E.g., turns [[17]] into 17 \n",
    "    assert(isinstance(cost, float))\n",
    "    \n",
    "    return cost"
   ]
  },
  {
   "cell_type": "code",
   "execution_count": 73,
   "id": "3750a52c",
   "metadata": {},
   "outputs": [],
   "source": [
    "# Back Prop\n",
    "\n",
    "def back_prop(params, cache, X, Y):\n",
    "    \n",
    "    \n",
    "    m = Y.shape[1]\n",
    "    \n",
    "    Z1 = cache[\"Z1\"]\n",
    "    A1 = cache[\"A1\"]\n",
    "    Z2 = cache[\"Z2\"]\n",
    "    A2 = cache[\"A2\"]\n",
    "    \n",
    "    W1 = params[\"W1\"]\n",
    "    b1 = params[\"b1\"]\n",
    "    W2 = params[\"W2\"]\n",
    "    b2 = params[\"b2\"]\n",
    "    \n",
    "    dZ2 = A2 - Y\n",
    "    dW2 = (1/m) * np.dot(dZ2, A1.T)\n",
    "    db2 = (1/m) * np.sum(dZ2, axis=1, keepdims=True)\n",
    "    dZ1 = np.multiply(np.dot(W2.T, dZ2), 1 - np.power(A1, 2))\n",
    "    dW1 = (1/m) * np.dot(dZ1, X.T)\n",
    "    db1 = (1/m) * np.sum(dZ1, axis=1, keepdims=True)\n",
    "    \n",
    "    gradients = {\"dW1\": dW1,\n",
    "                \"db1\": db1,\n",
    "                \"dW2\": dW2,\n",
    "                \"db2\": db2}\n",
    "    \n",
    "    return gradients"
   ]
  },
  {
   "cell_type": "code",
   "execution_count": 74,
   "id": "d554c766",
   "metadata": {},
   "outputs": [],
   "source": [
    "#Gradient Descent\n",
    "\n",
    "def gradient_descent(params, grads, learning_rate=1.2):\n",
    "    # Weights and Biases\n",
    "    W1 = params['W1']\n",
    "    b1 = params['b1']\n",
    "    W2 = params['W2']\n",
    "    b2 = params['b2']\n",
    "    \n",
    "    # Gradients of weights and biases\n",
    "    dW1 = grads['dW1']\n",
    "    db1 = grads['db1']\n",
    "    dW2 = grads['dW2']\n",
    "    db2 = grads['db2']\n",
    "    \n",
    "    # Parameter update\n",
    "    W1 = W1 - learning_rate * dW1\n",
    "    b1 = b1 - learning_rate * db1\n",
    "    W2 = W2 - learning_rate * dW2\n",
    "    b2 = b2 - learning_rate * db2\n",
    "    \n",
    "    \n",
    "    parameters = {\"W1\": W1,\n",
    "                  \"b1\": b1,\n",
    "                  \"W2\": W2,\n",
    "                  \"b2\": b2}\n",
    "    \n",
    "    return parameters"
   ]
  },
  {
   "cell_type": "code",
   "execution_count": 75,
   "id": "6aa107d9",
   "metadata": {},
   "outputs": [],
   "source": [
    "# Model\n",
    "\n",
    "def model(X, Y, n_h, num_iterations=10000, print_cost=False):\n",
    "\n",
    "    np.random.seed(3)\n",
    "    n_x = layer_dims(X, Y)[0]\n",
    "    n_y = layer_dims(X, Y)[2]\n",
    "          \n",
    "    params = initialise(n_x, n_h, n_y)\n",
    "    \n",
    "    W1 = params['W1']\n",
    "    b1 = params['b1']\n",
    "    W2 = params['W2']\n",
    "    b2 = params['b2']\n",
    "    \n",
    "    for i in range(0, num_iterations):\n",
    "        A2, cache = foward_prop(X, params)\n",
    "        \n",
    "        cost = cost_compute(A2, Y, params)\n",
    "        \n",
    "        grads = back_prop(params, cache, X, Y)\n",
    "        \n",
    "        params = gradient_descent(params, grads)\n",
    "        \n",
    "        if print_cost and i % 1000 == 0:\n",
    "            print (\"Cost after iteration %i: %f\" % (i, cost))\n",
    "\n",
    "    return params\n",
    "          "
   ]
  },
  {
   "cell_type": "code",
   "execution_count": 76,
   "id": "97a08ad0",
   "metadata": {},
   "outputs": [
    {
     "name": "stdout",
     "output_type": "stream",
     "text": [
      "Cost after iteration 0: 0.691259\n",
      "Cost after iteration 1000: 0.608207\n",
      "Cost after iteration 2000: 0.608207\n",
      "Cost after iteration 3000: 0.608207\n",
      "Cost after iteration 4000: 0.608207\n",
      "Cost after iteration 5000: 0.608207\n",
      "Cost after iteration 6000: 0.608207\n",
      "Cost after iteration 7000: 0.608207\n",
      "Cost after iteration 8000: 0.608207\n",
      "Cost after iteration 9000: 0.608207\n"
     ]
    }
   ],
   "source": [
    "# Model test\n",
    "model = model(X, Y, 5, print_cost=True)"
   ]
  },
  {
   "cell_type": "code",
   "execution_count": 62,
   "id": "308f08b5",
   "metadata": {},
   "outputs": [],
   "source": [
    "# Predict\n",
    "def predict(parameters, X):\n",
    "    A2, _ = forward_propagation(X, parameters)\n",
    "    predictions = np.round(A2)\n",
    "    \n",
    "    return predictions"
   ]
  },
  {
   "cell_type": "code",
   "execution_count": 78,
   "id": "9d1413ff",
   "metadata": {},
   "outputs": [],
   "source": [
    "# # Plot the decision boundary\n",
    "# plot_decision_boundary(lambda x: predict(parameters, x.T), X, Y)\n",
    "# plt.title(\"Decision Boundary for hidden layer size \" + str(4))"
   ]
  },
  {
   "cell_type": "code",
   "execution_count": null,
   "id": "1e389a56",
   "metadata": {},
   "outputs": [],
   "source": []
  }
 ],
 "metadata": {
  "kernelspec": {
   "display_name": "Python 3",
   "language": "python",
   "name": "python3"
  },
  "language_info": {
   "codemirror_mode": {
    "name": "ipython",
    "version": 3
   },
   "file_extension": ".py",
   "mimetype": "text/x-python",
   "name": "python",
   "nbconvert_exporter": "python",
   "pygments_lexer": "ipython3",
   "version": "3.8.12"
  }
 },
 "nbformat": 4,
 "nbformat_minor": 5
}
