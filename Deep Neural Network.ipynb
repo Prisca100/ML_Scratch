{
 "cells": [
  {
   "cell_type": "code",
   "execution_count": 60,
   "id": "afaa9505",
   "metadata": {},
   "outputs": [],
   "source": [
    "import numpy as np\n",
    "import matplotlib.pyplot as plt\n",
    "from utils import *\n",
    "from test_cases import *"
   ]
  },
  {
   "cell_type": "code",
   "execution_count": 61,
   "id": "9d514eeb",
   "metadata": {},
   "outputs": [],
   "source": [
    "def initialise_deep(layer_dims):\n",
    "    \"\"\"\n",
    "    Layer dims is a list indicating the various layers\n",
    "    \"\"\"\n",
    "    params = {}\n",
    "    L = len(layer_dims)\n",
    "    \n",
    "    #Setting the shape for parameters W and b of layer l to be (l, l-1) and (l, 1) respectively\n",
    "    for l in range(1, L):\n",
    "        params[\"W\" + str(l)] = np.random.rand(layer_dims[l], layer_dims[l-1])*0.01\n",
    "        params[\"b\" + str(l)] = np.zeros(shape = (layer_dims[l], 1))\n",
    "        \n",
    "        assert(params[\"W\" + str(l)].shape == (layer_dims[l], layer_dims[l-1]))\n",
    "        assert(params[\"b\" + str(l)].shape == (layer_dims[l], 1)) \n",
    "        \n",
    "    return params"
   ]
  },
  {
   "cell_type": "code",
   "execution_count": 62,
   "id": "0b20b911",
   "metadata": {},
   "outputs": [
    {
     "data": {
      "text/plain": [
       "{'W1': array([[0.00078808, 0.00805757]]), 'b1': array([[0.]])}"
      ]
     },
     "execution_count": 62,
     "metadata": {},
     "output_type": "execute_result"
    }
   ],
   "source": [
    "# Init test\n",
    "params = initialise_deep([2,1])\n",
    "params"
   ]
  },
  {
   "cell_type": "code",
   "execution_count": 63,
   "id": "e85a394e",
   "metadata": {},
   "outputs": [],
   "source": [
    "# foward prop without activation\n",
    "def linear_foward(A_prev, W, b):\n",
    "    \n",
    "    Z = np.dot(W, A_prev) + b\n",
    "    \n",
    "    assert(Z.shape == (W.shape[0], A_prev.shape[1]))\n",
    "    \n",
    "    cache = (A_prev, W, b)\n",
    "    \n",
    "    return Z, cache"
   ]
  },
  {
   "cell_type": "code",
   "execution_count": 64,
   "id": "f5d993c7",
   "metadata": {},
   "outputs": [],
   "source": [
    "# Linear_foward_test\n",
    "def linear_foward_test():\n",
    "    A_prev = np.random.rand(3,2)\n",
    "    W = np.random.rand(4,3)\n",
    "    b = np.zeros(shape = (4,1))\n",
    "    return A_prev, W, b\n",
    "    "
   ]
  },
  {
   "cell_type": "code",
   "execution_count": 74,
   "id": "436265c8",
   "metadata": {},
   "outputs": [
    {
     "name": "stdout",
     "output_type": "stream",
     "text": [
      "Z : (4, 2)\n",
      "content: [[0.43179347 0.26522888]\n",
      " [0.93116502 0.65949471]\n",
      " [0.94000788 0.98403165]]\n",
      "content: [[0.17763874 0.51384609 0.68409248]\n",
      " [0.64985922 0.76776227 0.80978965]\n",
      " [0.96936564 0.09262521 0.89938912]\n",
      " [0.58247105 0.75353202 0.89115137]]\n",
      "content: [[0.]\n",
      " [0.]\n",
      " [0.]\n",
      " [0.]]\n"
     ]
    }
   ],
   "source": [
    "# Linear_test_foward\n",
    "A_prev, W, b = linear_foward_test()\n",
    "Z, cache = linear_foward(A_prev, W, b)\n",
    "print(\"Z :\", Z.shape)\n",
    "for i in cache:\n",
    "    print(\"content:\", i)"
   ]
  },
  {
   "cell_type": "code",
   "execution_count": 66,
   "id": "d36f50a8",
   "metadata": {},
   "outputs": [],
   "source": [
    "# Linear foward with activation \n",
    "def linear_activation_foward(A_prev, W, b, activation):\n",
    "    Z, cache = linear_foward(A_prev, W, b)\n",
    "    if activation == \"sigmoid\":\n",
    "        A, activation_cache = sigmoid(Z)\n",
    "    elif activation == \"relu\":\n",
    "        A, activation_cache = relu(Z)\n",
    "    \n",
    "    cache = (A_prev, W, b, Z)\n",
    "    return A, cache\n",
    "    "
   ]
  },
  {
   "cell_type": "code",
   "execution_count": 90,
   "id": "be6ce575",
   "metadata": {},
   "outputs": [
    {
     "name": "stdout",
     "output_type": "stream",
     "text": [
      "A:  [[0.76820995 0.74253044]\n",
      " [0.85279926 0.81390029]\n",
      " [0.79417017 0.76909657]\n",
      " [0.85703258 0.82176619]]\n"
     ]
    },
    {
     "data": {
      "text/plain": [
       "(array([[0.43179347, 0.26522888],\n",
       "        [0.93116502, 0.65949471],\n",
       "        [0.94000788, 0.98403165]]),\n",
       " array([[0.17763874, 0.51384609, 0.68409248],\n",
       "        [0.64985922, 0.76776227, 0.80978965],\n",
       "        [0.96936564, 0.09262521, 0.89938912],\n",
       "        [0.58247105, 0.75353202, 0.89115137]]),\n",
       " array([[0.],\n",
       "        [0.],\n",
       "        [0.],\n",
       "        [0.]]),\n",
       " array([[1.19823107, 1.05916235],\n",
       "        [1.75672699, 1.47555524],\n",
       "        [1.35024797, 1.20321696],\n",
       "        [1.79085916, 1.52835968]]))"
      ]
     },
     "execution_count": 90,
     "metadata": {},
     "output_type": "execute_result"
    }
   ],
   "source": [
    "# linear foward with activation test\n",
    "A, cache = linear_activation_foward(A_prev, W, b, activation=\"sigmoid\")\n",
    "print(\"A: \", A)\n",
    "cache\n",
    "# for i in cache:\n",
    "#     print(\"content: \", i)\n"
   ]
  },
  {
   "cell_type": "code",
   "execution_count": 68,
   "id": "f8f08ffa",
   "metadata": {},
   "outputs": [],
   "source": [
    "# model with L layers foward path\n",
    "def L_model_foward(X, params):\n",
    "    \"\"\"\n",
    "    X: input tensor\n",
    "    params: dict containing weights and biases for all layers\n",
    "    cache: tuple containing all the previous values of A_prev, W, b and Z\n",
    "    \n",
    "    \"\"\"\n",
    "    # list for storing all the intermediate values\n",
    "    caches = []\n",
    "    L = len(params) // 2\n",
    "    \n",
    "    A = X\n",
    "    \n",
    "    for l in range(1, L):\n",
    "        A_prev = A\n",
    "        A, cache = linear_activation_foward(A_prev, \n",
    "                                            params[\"W\" + str(l)],\n",
    "                                            params[\"b\" + str(l)], \n",
    "                                            \"relu\")\n",
    "        caches.append(cache)\n",
    "        \n",
    "    AL, cache = linear_activation_foward(A, \n",
    "                                         params[\"W\" + str(L)],\n",
    "                                         params[\"b\" + str(L)],\n",
    "                                         \"sigmoid\")\n",
    "    caches.append(cache)\n",
    "    \n",
    "    return AL, caches\n",
    "    "
   ]
  },
  {
   "cell_type": "code",
   "execution_count": 69,
   "id": "b31438df",
   "metadata": {},
   "outputs": [],
   "source": [
    "# L model test case\n",
    "def L_model_foward_test_case():\n",
    "    X = np.random.rand(3,2)\n",
    "    params = initialise_deep([3,4,2])\n",
    "    return X, params"
   ]
  },
  {
   "cell_type": "code",
   "execution_count": 70,
   "id": "ca60a433",
   "metadata": {},
   "outputs": [
    {
     "name": "stdout",
     "output_type": "stream",
     "text": [
      "Al:  [[0.50005532 0.50003367]\n",
      " [0.50004026 0.50002263]]\n",
      "cache_content: [[0.01426713 0.00848462]\n",
      " [0.0111772  0.00553742]\n",
      " [0.00767508 0.0051125 ]\n",
      " [0.00392853 0.00238374]]\n",
      "cache_content: [[2.21269071e-04 1.34661790e-04]\n",
      " [1.61022315e-04 9.05228591e-05]]\n"
     ]
    }
   ],
   "source": [
    "# L model test\n",
    "X, params = L_model_foward_test_case()\n",
    "AL, caches = L_model_foward(X, params)\n",
    "print(\"Al: \", AL)\n",
    "for i in caches:\n",
    "    print(\"cache_content: \" + str(i[3]))"
   ]
  },
  {
   "cell_type": "code",
   "execution_count": 71,
   "id": "bf1ddfeb",
   "metadata": {},
   "outputs": [],
   "source": [
    "# Cost\n",
    "def cost(AL, Y):\n",
    "    m = Y.shape[0]\n",
    "    \n",
    "    cost = (-1/m) * np.sum(np.multiply(Y, np.log(AL))+ np.multiply(1-Y, np.log(1-AL)))\n",
    "    \n",
    "    cost = np.squeeze(cost)      # To make sure your cost's shape is what we expect (e.g. this turns [[17]] into 17).\n",
    "    assert(cost.shape==())\n",
    "           \n",
    "    return cost"
   ]
  },
  {
   "cell_type": "code",
   "execution_count": 73,
   "id": "2b92740f",
   "metadata": {},
   "outputs": [
    {
     "data": {
      "text/plain": [
       "1.386230336061199"
      ]
     },
     "execution_count": 73,
     "metadata": {},
     "output_type": "execute_result"
    }
   ],
   "source": [
    "# cost test\n",
    "Y = np.random.rand(2,2)\n",
    "d = cost(AL, Y)\n",
    "d"
   ]
  },
  {
   "cell_type": "code",
   "execution_count": 85,
   "id": "02a0913c",
   "metadata": {},
   "outputs": [],
   "source": [
    "# Back propagation (linear)\n",
    "def linear_backward(dZ, cache):\n",
    "    A_prev, W, b, _ = cache\n",
    "    m = A_prev.shape[1]\n",
    "    dW = np.dot(dZ, A_prev.T)* (1/m)\n",
    "    db = np.sum(dZ, axis = 1, keepdims = True)\n",
    "    dA_prev = np.dot(W.T, dZ)*(1/m)\n",
    "    db.shape\n",
    "    assert(dA_prev.shape == A_prev.shape)\n",
    "    assert(dW.shape == W.shape)\n",
    "    assert(db.shape == b.shape)\n",
    "    \n",
    "    return dA_prev, dW, db\n"
   ]
  },
  {
   "cell_type": "code",
   "execution_count": 80,
   "id": "ef466cdf",
   "metadata": {},
   "outputs": [],
   "source": [
    "# Linear backprop test\n",
    "def linear_backward_test_case(Z):\n",
    "    dZ = np.random.rand(Z.shape[0], Z.shape[1])\n",
    "    return dZ"
   ]
  },
  {
   "cell_type": "code",
   "execution_count": 84,
   "id": "a546b6ef",
   "metadata": {},
   "outputs": [],
   "source": [
    "dZ = linear_backward_test_case(Z)\n",
    "dA_prev, dW, db = linear_backward(dZ, cache)\n"
   ]
  },
  {
   "cell_type": "code",
   "execution_count": 89,
   "id": "9a17739c",
   "metadata": {},
   "outputs": [],
   "source": [
    "def linear_activation_backward(dA, cache, activation):\n",
    "    A_prev, W, b, Z = cache\n",
    "    m = A_prev.shape[1]\n",
    "    if activation == \"sigmoid\":\n",
    "        dZ = sigmoid_backward(dA, Z)\n",
    "    if activation == \"relu\":\n",
    "        dZ = relu_backward(dA, Z)\n",
    "    dA_prev, dW, db = linear_backward(dZ, cache)\n",
    "    return dA_prev, dW, db"
   ]
  },
  {
   "cell_type": "code",
   "execution_count": 94,
   "id": "b0a29631",
   "metadata": {},
   "outputs": [
    {
     "name": "stdout",
     "output_type": "stream",
     "text": [
      "dA_prev:  [[0.95716363 0.69459362]\n",
      " [0.70108167 0.61876646]\n",
      " [1.14190043 0.97355165]]\n",
      "dW:  [[0.12724061 0.30954539 0.44030162]\n",
      " [0.29317912 0.66586242 0.79443795]\n",
      " [0.27631724 0.62345184 0.7296329 ]\n",
      " [0.2000835  0.44174081 0.4832428 ]]\n",
      "db:  [[0.89918816]\n",
      " [1.65430102]\n",
      " [1.52289117]\n",
      " [1.01718826]]\n"
     ]
    }
   ],
   "source": [
    "# linear_activation_backward test case\n",
    "def linear_activation_backward_test_case(dZ):\n",
    "    dA = np.random.rand(dZ.shape[0], dZ.shape[1])\n",
    "    return dA\n",
    "dA = linear_activation_backward_test_case(dZ)\n",
    "dA_prev, dW, db = linear_activation_backward(dA, cache, activation=\"relu\")\n",
    "print(\"dA_prev: \", dA_prev)\n",
    "print(\"dW: \", dW)\n",
    "print(\"db: \", db)"
   ]
  },
  {
   "cell_type": "code",
   "execution_count": null,
   "id": "64cf90f5",
   "metadata": {},
   "outputs": [],
   "source": [
    "## Model Back prop\n",
    "def L_momdel_backward(AL, Y, caches):\n",
    "    grads = {}\n",
    "    L = len(caches)   #num layers\n",
    "    m = AL.shape[1]\n",
    "    Y = Y.reshape(AL.shape)\n",
    "    \n",
    "    \n",
    "    dAL = - (np.divide(Y, AL) - np.divide(1 - Y, 1 - AL))\n",
    "    current_cache = caches[L-1]\n",
    "    grads[\"dA\" + str(L-1)], grads[\"dW\" + str(L)], grads[\"db\" + str(L)] = linear_activation_backward(dAL, current_cache, \"sigmoid\")\n",
    "    dA = grads[\"dA\" + str(L-1)]\n",
    "    \n",
    "    for l in range(L-1):\n",
    "        current_cache = cache[l]\n",
    "        dA_temp, dW_temp, db_temp = linear_activation_backward(dA, current_cache, \"relu\")\n",
    "        \n",
    "        grads[\"dA\" + str(l+1)],\n",
    "        grads[\"dW\" + str(l+1)],\n",
    "        grads[\"db\" + str(l+1)] = dA_temp, dW_temp, db_temp\n",
    "        \n",
    "    return grads"
   ]
  },
  {
   "cell_type": "code",
   "execution_count": null,
   "id": "5f2509c9",
   "metadata": {},
   "outputs": [],
   "source": [
    "def L_model_backward(AL, Y, caches):\n",
    "    \"\"\"\n",
    "    Implement the backward propagation for the [LINEAR->RELU] * (L-1) -> LINEAR -> SIGMOID group\n",
    "    \n",
    "    Arguments:\n",
    "    AL -- probability vector, output of the forward propagation (L_model_forward())\n",
    "    Y -- true \"label\" vector (containing 0 if non-cat, 1 if cat)\n",
    "    caches -- list of caches containing:\n",
    "                every cache of linear_activation_forward() with \"relu\" (it's caches[l], for l in range(L-1) i.e l = 0...L-2)\n",
    "                the cache of linear_activation_forward() with \"sigmoid\" (it's caches[L-1])\n",
    "    \n",
    "    Returns:\n",
    "    grads -- A dictionary with the gradients\n",
    "             grads[\"dA\" + str(l)] = ... \n",
    "             grads[\"dW\" + str(l)] = ...\n",
    "             grads[\"db\" + str(l)] = ... \n",
    "    \"\"\"\n",
    "    grads = {}\n",
    "    L = len(caches) # the number of layers\n",
    "    m = AL.shape[1]\n",
    "    Y = Y.reshape(AL.shape) # after this line, Y is the same shape as AL\n",
    "    \n",
    "    # Initializing the backpropagation\n",
    "    ### START CODE HERE ### (1 line of code)\n",
    "    \n",
    "    ### END CODE HERE ###\n",
    "    \n",
    "    # Lth layer (SIGMOID -> LINEAR) gradients. Inputs: \"AL, Y, caches\". Outputs: \"grads[\"dAL\"], grads[\"dWL\"], grads[\"dbL\"]\n",
    "    ### START CODE HERE ### (approx. 2 lines)\n",
    "    current_cache = caches[-1]\n",
    "    grads[\"dA\" + str(L)], grads[\"dW\" + str(L)], grads[\"db\" + str(L)] = linear_activation_backward(dAL, current_cache, activation = \"sigmoid\")\n",
    "    ### END CODE HERE ###\n",
    "    \n",
    "    for l in reversed(range(L-1)):\n",
    "        # lth layer: (RELU -> LINEAR) gradients.\n",
    "        # Inputs: \"grads[\"dA\" + str(l + 2)], caches\". Outputs: \"grads[\"dA\" + str(l + 1)] , grads[\"dW\" + str(l + 1)] , grads[\"db\" + str(l + 1)] \n",
    "        ### START CODE HERE ### (approx. 5 lines)\n",
    "        current_cache = caches[l]\n",
    "        dA_prev_temp, dW_temp, db_temp = linear_backward(sigmoid_backward(dAL, current_cache[1]), current_cache[0])\n",
    "        grads[\"dA\" + str(l + 1)] = dA_prev_temp\n",
    "        grads[\"dW\" + str(l + 1)] = dW_temp\n",
    "        grads[\"db\" + str(l + 1)] = db_temp\n",
    "        ### END CODE HERE ###\n",
    "\n",
    "    return grads\n"
   ]
  },
  {
   "cell_type": "code",
   "execution_count": null,
   "id": "4c08f70d",
   "metadata": {},
   "outputs": [],
   "source": [
    "def update_parameters(parameters, grads, learning_rate):\n",
    "    \"\"\"\n",
    "    Update parameters using gradient descent\n",
    "\n",
    "    Arguments:\n",
    "    parameters -- python dictionary containing your parameters \n",
    "    grads -- python dictionary containing your gradients, output of L_model_backward\n",
    "\n",
    "    Returns:\n",
    "    parameters -- python dictionary containing your updated parameters \n",
    "                  parameters[\"W\" + str(l)] = ... \n",
    "                  parameters[\"b\" + str(l)] = ...\n",
    "    \"\"\"\n",
    "\n",
    "    L = len(parameters) // 2 # number of layers in the neural network\n",
    "\n",
    "    for l in range(L):\n",
    "        parameters[\"W\" + str(l+1)] = parameters[\"W\" + str(l+1)] - learning_rate * grads[\"dW\" + str(l + 1)]\n",
    "        parameters[\"b\" + str(l+1)] = parameters[\"b\" + str(l+1)] - learning_rate * grads[\"db\" + str(l + 1)]\n",
    "    \n",
    "    return parameters"
   ]
  },
  {
   "cell_type": "code",
   "execution_count": null,
   "id": "1a8cf829",
   "metadata": {},
   "outputs": [],
   "source": [
    "def two_layer_model(X, Y, layers_dims, learning_rate=0.0075, num_iterations=3000, print_cost=False):\n",
    "    \"\"\"\n",
    "    Implements a two-layer neural network: LINEAR->RELU->LINEAR->SIGMOID.\n",
    "    \n",
    "    Arguments:\n",
    "    X -- input data, of shape (n_x, number of examples)\n",
    "    Y -- true \"label\" vector (containing 0 if cat, 1 if non-cat), of shape (1, number of examples)\n",
    "    layers_dims -- dimensions of the layers (n_x, n_h, n_y)\n",
    "    num_iterations -- number of iterations of the optimization loop\n",
    "    learning_rate -- learning rate of the gradient descent update rule\n",
    "    print_cost -- If set to True, this will print the cost every 100 iterations \n",
    "    \n",
    "    Returns:\n",
    "    parameters -- a dictionary containing W1, W2, b1, and b2\n",
    "    \"\"\"\n",
    "    \n",
    "    np.random.seed(1)\n",
    "    grads = {}\n",
    "    costs = []                              # to keep track of the cost\n",
    "    m = X.shape[1]                           # number of examples\n",
    "    (n_x, n_h, n_y) = layers_dims\n",
    "    \n",
    "    # Initialize parameters dictionary, by calling one of the functions you'd previously implemented\n",
    "    ### START CODE HERE ### (≈ 1 line of code)\n",
    "    parameters = initialize_parameters(n_x, n_h, n_y)\n",
    "    ### END CODE HERE ###\n",
    "    \n",
    "    # Get W1, b1, W2 and b2 from the dictionary parameters.\n",
    "    W1 = parameters[\"W1\"]\n",
    "    b1 = parameters[\"b1\"]\n",
    "    W2 = parameters[\"W2\"]\n",
    "    b2 = parameters[\"b2\"]\n",
    "    \n",
    "    # Loop (gradient descent)\n",
    "\n",
    "    for i in range(0, num_iterations):\n",
    "\n",
    "        # Forward propagation: LINEAR -> RELU -> LINEAR -> SIGMOID. Inputs: \"X, W1, b1\". Output: \"A1, cache1, A2, cache2\".\n",
    "        ### START CODE HERE ### (≈ 2 lines of code)\n",
    "        A1, cache1 = linear_activation_forward(X, W1, b1, 'relu')\n",
    "        A2, cache2 = linear_activation_forward(A1, W2, b2, 'sigmoid')\n",
    "        ### END CODE HERE ###\n",
    "        \n",
    "        # Compute cost\n",
    "        ### START CODE HERE ### (≈ 1 line of code)\n",
    "        cost = compute_cost(A2, Y)\n",
    "        ### END CODE HERE ###\n",
    "        \n",
    "        # Initializing backward propagation\n",
    "        dA2 = - (np.divide(Y, A2) - np.divide(1 - Y, 1 - A2))\n",
    "        \n",
    "        # Backward propagation. Inputs: \"dA2, cache2, cache1\". Outputs: \"dA1, dW2, db2; also dA0 (not used), dW1, db1\".\n",
    "        ### START CODE HERE ### (≈ 2 lines of code)\n",
    "        dA1, dW2, db2 = linear_activation_backward(dA2, cache2, 'sigmoid')\n",
    "        dA0, dW1, db1 = linear_activation_backward(dA1, cache1, 'relu')\n",
    "        ### END CODE HERE ###\n",
    "        \n",
    "        # Set grads['dWl'] to dW1, grads['db1'] to db1, grads['dW2'] to dW2, grads['db2'] to db2\n",
    "        grads['dW1'] = dW1\n",
    "        grads['db1'] = db1\n",
    "        grads['dW2'] = dW2\n",
    "        grads['db2'] = db2\n",
    "        \n",
    "        # Update parameters.\n",
    "        ### START CODE HERE ### (approx. 1 line of code)\n",
    "        parameters = update_parameters(parameters, grads, learning_rate)\n",
    "        ### END CODE HERE ###\n",
    "\n",
    "        # Retrieve W1, b1, W2, b2 from parameters\n",
    "        W1 = parameters[\"W1\"]\n",
    "        b1 = parameters[\"b1\"]\n",
    "        W2 = parameters[\"W2\"]\n",
    "        b2 = parameters[\"b2\"]\n",
    "        \n",
    "        # Print the cost every 100 training example\n",
    "        if print_cost and i % 100 == 0:\n",
    "            print(\"Cost after iteration {}: {}\".format(i, np.squeeze(cost)))\n",
    "        if print_cost and i % 100 == 0:\n",
    "            costs.append(cost)\n",
    "       \n",
    "    # plot the cost\n",
    "\n",
    "    plt.plot(np.squeeze(costs))B\n",
    "    plt.ylabel('cost')\n",
    "    plt.xlabel('iterations (per tens)')\n",
    "    plt.title(\"Learning rate =\" + str(learning_rate))\n",
    "    plt.show()\n",
    "    \n",
    "    return parameters\n"
   ]
  }
 ],
 "metadata": {
  "kernelspec": {
   "display_name": "Python 3",
   "language": "python",
   "name": "python3"
  },
  "language_info": {
   "codemirror_mode": {
    "name": "ipython",
    "version": 3
   },
   "file_extension": ".py",
   "mimetype": "text/x-python",
   "name": "python",
   "nbconvert_exporter": "python",
   "pygments_lexer": "ipython3",
   "version": "3.8.12"
  }
 },
 "nbformat": 4,
 "nbformat_minor": 5
}
